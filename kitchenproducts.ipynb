{
  "cells": [
    {
      "cell_type": "markdown",
      "metadata": {
        "id": "view-in-github",
        "colab_type": "text"
      },
      "source": [
        "<a href=\"https://colab.research.google.com/github/edipasq/bigdata-challenge/blob/main/kitchenproducts.ipynb\" target=\"_parent\"><img src=\"https://colab.research.google.com/assets/colab-badge.svg\" alt=\"Open In Colab\"/></a>"
      ]
    },
    {
      "cell_type": "code",
      "execution_count": null,
      "metadata": {
        "id": "4K-KKEpZbKDV"
      },
      "outputs": [],
      "source": [
        ""
      ]
    },
    {
      "cell_type": "code",
      "execution_count": 1,
      "metadata": {
        "id": "DPBoF0RVas2J"
      },
      "outputs": [],
      "source": [
        "# innstall java\n",
        "!apt-get install openjdk-8-jdk-headless -qq > /dev/null\n",
        "\n",
        "# install spark (change the version number if needed)\n",
        "!wget -q https://archive.apache.org/dist/spark/spark-3.0.0/spark-3.0.0-bin-hadoop3.2.tgz\n",
        "\n",
        "# unzip the spark file to the current folder\n",
        "!tar xf spark-3.0.0-bin-hadoop3.2.tgz\n",
        "\n",
        "# set your spark folder to your system path environment. \n",
        "import os\n",
        "os.environ[\"JAVA_HOME\"] = \"/usr/lib/jvm/java-8-openjdk-amd64\"\n",
        "os.environ[\"SPARK_HOME\"] = \"/content/spark-3.0.0-bin-hadoop3.2\"\n",
        "\n",
        "\n",
        "# install findspark using pip\n",
        "!pip install -q findspark"
      ]
    },
    {
      "cell_type": "code",
      "execution_count": 2,
      "metadata": {
        "colab": {
          "base_uri": "https://localhost:8080/"
        },
        "id": "uhVtY9rBbRHG",
        "outputId": "cf17a940-a8a6-4dd1-b09d-579903bb3a9b"
      },
      "outputs": [
        {
          "output_type": "stream",
          "name": "stdout",
          "text": [
            "--2022-01-25 18:28:18--  https://jdbc.postgresql.org/download/postgresql-42.2.9.jar\n",
            "Resolving jdbc.postgresql.org (jdbc.postgresql.org)... 72.32.157.228, 2001:4800:3e1:1::228\n",
            "Connecting to jdbc.postgresql.org (jdbc.postgresql.org)|72.32.157.228|:443... connected.\n",
            "HTTP request sent, awaiting response... 200 OK\n",
            "Length: 914037 (893K) [application/java-archive]\n",
            "Saving to: ‘postgresql-42.2.9.jar’\n",
            "\n",
            "postgresql-42.2.9.j 100%[===================>] 892.61K  --.-KB/s    in 0.1s    \n",
            "\n",
            "2022-01-25 18:28:18 (5.95 MB/s) - ‘postgresql-42.2.9.jar’ saved [914037/914037]\n",
            "\n"
          ]
        }
      ],
      "source": [
        "!wget https://jdbc.postgresql.org/download/postgresql-42.2.9.jar"
      ]
    },
    {
      "cell_type": "code",
      "execution_count": 3,
      "metadata": {
        "id": "WfqVHo7PbcNF"
      },
      "outputs": [],
      "source": [
        "import findspark\n",
        "findspark.init()"
      ]
    },
    {
      "cell_type": "code",
      "execution_count": 4,
      "metadata": {
        "id": "oPmd2SRRbma7"
      },
      "outputs": [],
      "source": [
        "from pyspark.sql import SparkSession\n",
        "spark = SparkSession.builder.appName(\"CloudETL\").config(\"spark.driver.extraClassPath\",\"/content/postgresql-42.2.9.jar\").getOrCreate()"
      ]
    },
    {
      "cell_type": "code",
      "execution_count": null,
      "metadata": {
        "colab": {
          "base_uri": "https://localhost:8080/"
        },
        "id": "CypxKAxrbzoF",
        "outputId": "968da1c8-6ae2-4354-da49-5ba1ef14faae"
      },
      "outputs": [
        {
          "output_type": "stream",
          "name": "stdout",
          "text": [
            "+---+----------+---------+-----------+-------------------+--------------+---------+\n",
            "| id|first_name|last_name|active_user|     street_address|         state| username|\n",
            "+---+----------+---------+-----------+-------------------+--------------+---------+\n",
            "|  1|    Cletus|  Lithcow|      false|78309 Riverside Way|      Virginia|ibearham0|\n",
            "|  2|       Caz|   Felgat|      false|83 Hazelcrest Place|       Alabama| wwaller1|\n",
            "|  3|     Kerri|  Crowson|      false|     112 Eliot Pass|North Carolina|ichesnut2|\n",
            "|  4|   Freddie|    Caghy|      false|    15 Merchant Way|      New York|  tsnarr3|\n",
            "|  5|   Sadella|    Deuss|      false|   079 Acker Avenue|     Tennessee|fwherrit4|\n",
            "+---+----------+---------+-----------+-------------------+--------------+---------+\n",
            "only showing top 5 rows\n",
            "\n"
          ]
        }
      ],
      "source": [
        "from pyspark import SparkFiles\n",
        "#url=\"https://<bucket name>.s3.amazonaws.com/user_data.csv\"\n",
        "url=\"https://bucket2-etl-class.s3.us-west-1.amazonaws.com/user_data.csv\"\n",
        "spark.sparkContext.addFile(url)\n",
        "user_data_df = spark.read.csv(SparkFiles.get(\"user_data.csv\"), sep=\",\", header=True, inferSchema=True)\n",
        "\n",
        "# Show DataFrame\n",
        "user_data_df.show(5)"
      ]
    },
    {
      "cell_type": "code",
      "execution_count": 6,
      "metadata": {
        "colab": {
          "base_uri": "https://localhost:8080/"
        },
        "id": "TRa94-GycU3T",
        "outputId": "93ab04d5-61fc-42a3-cd21-7dab9eaec779"
      },
      "outputs": [
        {
          "output_type": "stream",
          "name": "stdout",
          "text": [
            "+-----------+-----------+--------------+----------+--------------+--------------------+----------------+-----------+-------------+-----------+----+-----------------+--------------------+--------------------+-----------+\n",
            "|marketplace|customer_id|     review_id|product_id|product_parent|       product_title|product_category|star_rating|helpful_votes|total_votes|vine|verified_purchase|     review_headline|         review_body|review_date|\n",
            "+-----------+-----------+--------------+----------+--------------+--------------------+----------------+-----------+-------------+-----------+----+-----------------+--------------------+--------------------+-----------+\n",
            "|         US|   37000337|R3DT59XH7HXR9K|B00303FI0G|     529320574|Arthur Court Pape...|         Kitchen|          5|            0|          0|   N|                Y|Beautiful. Looks ...|Beautiful.  Looks...| 2015-08-31|\n",
            "|         US|   15272914|R1LFS11BNASSU8|B00JCZKZN6|     274237558|Olde Thompson Bav...|         Kitchen|          5|            0|          1|   N|                Y| Awesome & Self-ness|I personally have...| 2015-08-31|\n",
            "|         US|   36137863|R296RT05AG0AF6|B00JLIKA5C|     544675303|Progressive Inter...|         Kitchen|          5|            0|          0|   N|                Y|Fabulous and wort...|Fabulous and wort...| 2015-08-31|\n",
            "|         US|   43311049|R3V37XDZ7ZCI3L|B000GBNB8G|     491599489|Zyliss Jumbo Garl...|         Kitchen|          5|            0|          1|   N|                Y|          Five Stars|A must if you lov...| 2015-08-31|\n",
            "|         US|   13763148|R14GU232NQFYX2|B00VJ5KX9S|     353790155|1 X Premier Pizza...|         Kitchen|          5|            0|          0|   N|                Y|     Better than sex|Worth every penny...| 2015-08-31|\n",
            "+-----------+-----------+--------------+----------+--------------+--------------------+----------------+-----------+-------------+-----------+----+-----------------+--------------------+--------------------+-----------+\n",
            "only showing top 5 rows\n",
            "\n"
          ]
        }
      ],
      "source": [
        "from pyspark import SparkFiles\n",
        "url=\"https://s3.amazonaws.com/amazon-reviews-pds/tsv/amazon_reviews_us_Kitchen_v1_00.tsv.gz\"\n",
        "spark.sparkContext.addFile(url)\n",
        "w_df = spark.read.csv(SparkFiles.get(\"amazon_reviews_us_Kitchen_v1_00.tsv.gz\"), sep=\"\\t\", header=True, inferSchema=True)\n",
        "\n",
        "# Show DataFrame\n",
        "w_df.show(5)"
      ]
    },
    {
      "cell_type": "code",
      "execution_count": 7,
      "metadata": {
        "id": "7BBVGLuvgiEP"
      },
      "outputs": [],
      "source": [
        "from pyspark.sql.functions import col"
      ]
    },
    {
      "cell_type": "markdown",
      "metadata": {
        "id": "vJvAFe4Mgj_k"
      },
      "source": [
        "print(df.count())"
      ]
    },
    {
      "cell_type": "code",
      "execution_count": 8,
      "metadata": {
        "colab": {
          "base_uri": "https://localhost:8080/"
        },
        "id": "Q21RcYPakLQG",
        "outputId": "fb89e656-403a-4977-f49c-10a825e5ad07"
      },
      "outputs": [
        {
          "output_type": "stream",
          "name": "stdout",
          "text": [
            "4880466\n"
          ]
        }
      ],
      "source": [
        "print(w_df.count())"
      ]
    },
    {
      "cell_type": "code",
      "execution_count": 9,
      "metadata": {
        "colab": {
          "base_uri": "https://localhost:8080/"
        },
        "id": "faH-S8kElpRq",
        "outputId": "077d2493-ff69-42d7-ef7d-4b084a033b18"
      },
      "outputs": [
        {
          "output_type": "stream",
          "name": "stdout",
          "text": [
            "root\n",
            " |-- marketplace: string (nullable = true)\n",
            " |-- customer_id: integer (nullable = true)\n",
            " |-- review_id: string (nullable = true)\n",
            " |-- product_id: string (nullable = true)\n",
            " |-- product_parent: integer (nullable = true)\n",
            " |-- product_title: string (nullable = true)\n",
            " |-- product_category: string (nullable = true)\n",
            " |-- star_rating: integer (nullable = true)\n",
            " |-- helpful_votes: integer (nullable = true)\n",
            " |-- total_votes: integer (nullable = true)\n",
            " |-- vine: string (nullable = true)\n",
            " |-- verified_purchase: string (nullable = true)\n",
            " |-- review_headline: string (nullable = true)\n",
            " |-- review_body: string (nullable = true)\n",
            " |-- review_date: string (nullable = true)\n",
            "\n"
          ]
        }
      ],
      "source": [
        "w_df.printSchema()"
      ]
    },
    {
      "cell_type": "code",
      "execution_count": 10,
      "metadata": {
        "colab": {
          "base_uri": "https://localhost:8080/"
        },
        "id": "HIRGLIhblxhs",
        "outputId": "891c07a1-1019-4c6f-b5ef-b2a8e3ae2f8b"
      },
      "outputs": [
        {
          "output_type": "stream",
          "name": "stdout",
          "text": [
            "4880466\n",
            "4879961\n",
            "4879961\n"
          ]
        }
      ],
      "source": [
        "print(w_df.count())\n",
        "w_df = w_df.dropna()\n",
        "print(w_df.count())\n",
        "df = w_df.dropDuplicates()\n",
        "print(w_df.count())"
      ]
    },
    {
      "cell_type": "code",
      "execution_count": null,
      "metadata": {
        "id": "wOIDmSwT9xN9"
      },
      "outputs": [],
      "source": [
        ""
      ]
    },
    {
      "cell_type": "code",
      "execution_count": null,
      "metadata": {
        "id": "pr06d2Ulq4PB"
      },
      "outputs": [],
      "source": [
        ""
      ]
    },
    {
      "cell_type": "code",
      "execution_count": 11,
      "metadata": {
        "id": "ABMFYo5lBU8H",
        "colab": {
          "base_uri": "https://localhost:8080/"
        },
        "outputId": "db5b0dde-3eb2-431b-af88-00eb61c2eb00"
      },
      "outputs": [
        {
          "output_type": "stream",
          "name": "stdout",
          "text": [
            "+--------------+-----------+----------+--------------+-----------+\n",
            "|     review_id|customer_id|product_id|product_parent|review_date|\n",
            "+--------------+-----------+----------+--------------+-----------+\n",
            "|R3DT59XH7HXR9K|   37000337|B00303FI0G|     529320574| 2015-08-31|\n",
            "|R1LFS11BNASSU8|   15272914|B00JCZKZN6|     274237558| 2015-08-31|\n",
            "|R296RT05AG0AF6|   36137863|B00JLIKA5C|     544675303| 2015-08-31|\n",
            "|R3V37XDZ7ZCI3L|   43311049|B000GBNB8G|     491599489| 2015-08-31|\n",
            "|R14GU232NQFYX2|   13763148|B00VJ5KX9S|     353790155| 2015-08-31|\n",
            "+--------------+-----------+----------+--------------+-----------+\n",
            "only showing top 5 rows\n",
            "\n"
          ]
        }
      ],
      "source": [
        "w_df2 = w_df.select([\"review_id\", \"customer_id\", \"product_id\", \"product_parent\",'review_date'])\n",
        "w_df2.show(5)"
      ]
    },
    {
      "cell_type": "code",
      "execution_count": 12,
      "metadata": {
        "id": "yMf3cVW1-FQY"
      },
      "outputs": [],
      "source": [
        "from pyspark.sql.functions import *\n",
        "\n",
        "d=w_df2.select('review_id','customer_id','product_id','product_parent',date_format(col('review_date'),\"yyyy-MM-dd\").alias('rev').cast(\"date\"))"
      ]
    },
    {
      "cell_type": "code",
      "execution_count": 13,
      "metadata": {
        "colab": {
          "base_uri": "https://localhost:8080/"
        },
        "id": "bvGgpnplBwGi",
        "outputId": "cf154727-b988-4f15-8c63-11208267d36d"
      },
      "outputs": [
        {
          "output_type": "stream",
          "name": "stdout",
          "text": [
            "+--------------+-----------+----------+--------------+----------+\n",
            "|     review_id|customer_id|product_id|product_parent|       rev|\n",
            "+--------------+-----------+----------+--------------+----------+\n",
            "|R3DT59XH7HXR9K|   37000337|B00303FI0G|     529320574|2015-08-31|\n",
            "|R1LFS11BNASSU8|   15272914|B00JCZKZN6|     274237558|2015-08-31|\n",
            "|R296RT05AG0AF6|   36137863|B00JLIKA5C|     544675303|2015-08-31|\n",
            "|R3V37XDZ7ZCI3L|   43311049|B000GBNB8G|     491599489|2015-08-31|\n",
            "|R14GU232NQFYX2|   13763148|B00VJ5KX9S|     353790155|2015-08-31|\n",
            "| RZQH4V7L2O1PL|   19009420|B00HYB5YY0|     432241873|2015-08-31|\n",
            "|R1F8JMOSPJ3KO7|   40599388|B000HEBAV2|     584680984|2015-08-31|\n",
            "|R1ZISGY2BWW4Z5|   22719359|B0012DS4GG|     772637306|2015-08-31|\n",
            "|R17PW4I3AE5WZW|   47478640|B00FLQ4EE6|     755416578|2015-08-31|\n",
            "|R3D93G1KTP6A8P|   34195504|B00DBS9OTG|     648762742|2015-08-31|\n",
            "|R18TQIW1NKPUNU|   19100570|B00AN9UJ68|     495720940|2015-08-31|\n",
            "|R34KUNL21WU248|   10299811|B00L2P0KNO|      41330497|2015-08-31|\n",
            "|R2YA1ZA53X12IN|   32687006|B00NQOJQXY|     191893454|2015-08-31|\n",
            "|R2ZD1IGC9UU55X|   43260893|B00080QE1Q|     277442428|2015-08-31|\n",
            "| R9J2YMVZTUVZ7|    8067227|B009VU17ZM|     414077276|2015-08-31|\n",
            "|R2UUXJ0WQR0CNI|   18139929|B00MY71KO2|     138697457|2015-08-31|\n",
            "|R3S9QICITG73JZ|   12282702|B00A6N18CK|      48180946|2015-08-31|\n",
            "|R3LISNJHS64PDA|   38649737|B00AB8NOLS|      67759108|2015-08-31|\n",
            "|R28RB82UG4RDD5|   33460969|B00FB4UPA0|      10711472|2015-08-31|\n",
            "|R3H0PRVII5991X|   40274860|B00YMHBQ0A|     618617346|2015-08-31|\n",
            "+--------------+-----------+----------+--------------+----------+\n",
            "only showing top 20 rows\n",
            "\n"
          ]
        }
      ],
      "source": [
        "d.show()"
      ]
    },
    {
      "cell_type": "code",
      "execution_count": 14,
      "metadata": {
        "colab": {
          "base_uri": "https://localhost:8080/"
        },
        "id": "1LeS8wHQrqbW",
        "outputId": "12ed5c13-cea7-4a30-a383-0a9f8307caac"
      },
      "outputs": [
        {
          "output_type": "stream",
          "name": "stdout",
          "text": [
            "root\n",
            " |-- review_id: string (nullable = true)\n",
            " |-- customer_id: integer (nullable = true)\n",
            " |-- product_id: string (nullable = true)\n",
            " |-- product_parent: integer (nullable = true)\n",
            " |-- rev: date (nullable = true)\n",
            "\n"
          ]
        }
      ],
      "source": [
        "d.printSchema()"
      ]
    },
    {
      "cell_type": "code",
      "source": [
        ""
      ],
      "metadata": {
        "id": "7NGZFdgoSciY"
      },
      "execution_count": null,
      "outputs": []
    },
    {
      "cell_type": "code",
      "execution_count": 15,
      "metadata": {
        "id": "DyeIXsPv3j-L"
      },
      "outputs": [],
      "source": [
        "d = d.withColumnRenamed(\"rev\", \"review_date\")"
      ]
    },
    {
      "cell_type": "code",
      "execution_count": 16,
      "metadata": {
        "colab": {
          "base_uri": "https://localhost:8080/"
        },
        "id": "rRYcjbS2CfqA",
        "outputId": "650703fb-5baf-4f9d-e257-d95ec3ed2fef"
      },
      "outputs": [
        {
          "output_type": "stream",
          "name": "stdout",
          "text": [
            "+--------------+-----------+----------+--------------+-----------+\n",
            "|     review_id|customer_id|product_id|product_parent|review_date|\n",
            "+--------------+-----------+----------+--------------+-----------+\n",
            "|R3DT59XH7HXR9K|   37000337|B00303FI0G|     529320574| 2015-08-31|\n",
            "|R1LFS11BNASSU8|   15272914|B00JCZKZN6|     274237558| 2015-08-31|\n",
            "|R296RT05AG0AF6|   36137863|B00JLIKA5C|     544675303| 2015-08-31|\n",
            "|R3V37XDZ7ZCI3L|   43311049|B000GBNB8G|     491599489| 2015-08-31|\n",
            "|R14GU232NQFYX2|   13763148|B00VJ5KX9S|     353790155| 2015-08-31|\n",
            "| RZQH4V7L2O1PL|   19009420|B00HYB5YY0|     432241873| 2015-08-31|\n",
            "|R1F8JMOSPJ3KO7|   40599388|B000HEBAV2|     584680984| 2015-08-31|\n",
            "|R1ZISGY2BWW4Z5|   22719359|B0012DS4GG|     772637306| 2015-08-31|\n",
            "|R17PW4I3AE5WZW|   47478640|B00FLQ4EE6|     755416578| 2015-08-31|\n",
            "|R3D93G1KTP6A8P|   34195504|B00DBS9OTG|     648762742| 2015-08-31|\n",
            "|R18TQIW1NKPUNU|   19100570|B00AN9UJ68|     495720940| 2015-08-31|\n",
            "|R34KUNL21WU248|   10299811|B00L2P0KNO|      41330497| 2015-08-31|\n",
            "|R2YA1ZA53X12IN|   32687006|B00NQOJQXY|     191893454| 2015-08-31|\n",
            "|R2ZD1IGC9UU55X|   43260893|B00080QE1Q|     277442428| 2015-08-31|\n",
            "| R9J2YMVZTUVZ7|    8067227|B009VU17ZM|     414077276| 2015-08-31|\n",
            "|R2UUXJ0WQR0CNI|   18139929|B00MY71KO2|     138697457| 2015-08-31|\n",
            "|R3S9QICITG73JZ|   12282702|B00A6N18CK|      48180946| 2015-08-31|\n",
            "|R3LISNJHS64PDA|   38649737|B00AB8NOLS|      67759108| 2015-08-31|\n",
            "|R28RB82UG4RDD5|   33460969|B00FB4UPA0|      10711472| 2015-08-31|\n",
            "|R3H0PRVII5991X|   40274860|B00YMHBQ0A|     618617346| 2015-08-31|\n",
            "+--------------+-----------+----------+--------------+-----------+\n",
            "only showing top 20 rows\n",
            "\n"
          ]
        }
      ],
      "source": [
        "d.show()"
      ]
    },
    {
      "cell_type": "code",
      "execution_count": 17,
      "metadata": {
        "id": "vvbb9UYnr2-3"
      },
      "outputs": [],
      "source": [
        "mode=\"append\"\n",
        "jdbc_url = \"jdbc:postgresql://database-1.cz0jfhlrydbo.us-west-1.rds.amazonaws.com:5432/bigdatak\"\n",
        "config = {\"user\":\"postgres\",\n",
        "          \"password\": \"*************\",\n",
        "          \"driver\":\"org.postgresql.Driver\"}"
      ]
    },
    {
      "cell_type": "code",
      "execution_count": 18,
      "metadata": {
        "id": "UnLRx8fyvM7Z"
      },
      "outputs": [],
      "source": [
        "d.write.jdbc(url=jdbc_url, table='review_id_table', mode=mode, properties=config)"
      ]
    },
    {
      "cell_type": "code",
      "execution_count": 19,
      "metadata": {
        "colab": {
          "base_uri": "https://localhost:8080/"
        },
        "id": "gD7IeI4ow9XA",
        "outputId": "50a68cf6-15ad-4442-bb2a-2d7707b0f323"
      },
      "outputs": [
        {
          "output_type": "stream",
          "name": "stdout",
          "text": [
            "+----------+--------------------+\n",
            "|product_id|       product_title|\n",
            "+----------+--------------------+\n",
            "|B00303FI0G|Arthur Court Pape...|\n",
            "|B00JCZKZN6|Olde Thompson Bav...|\n",
            "|B00JLIKA5C|Progressive Inter...|\n",
            "|B000GBNB8G|Zyliss Jumbo Garl...|\n",
            "|B00VJ5KX9S|1 X Premier Pizza...|\n",
            "+----------+--------------------+\n",
            "only showing top 5 rows\n",
            "\n"
          ]
        }
      ],
      "source": [
        "p_df2 = w_df.select([\"product_id\", \"product_title\"])\n",
        "p_df2.show(5)"
      ]
    },
    {
      "cell_type": "code",
      "execution_count": 20,
      "metadata": {
        "id": "tE3DV0Odx6qI"
      },
      "outputs": [],
      "source": [
        "p_df22 = p_df2.dropDuplicates()"
      ]
    },
    {
      "cell_type": "code",
      "execution_count": 21,
      "metadata": {
        "id": "z-5oz_NIxZxe"
      },
      "outputs": [],
      "source": [
        "p_df22.write.jdbc(url=jdbc_url, table='products', mode=mode, properties=config)"
      ]
    },
    {
      "cell_type": "code",
      "source": [
        "cust=w_df.select('customer_id')"
      ],
      "metadata": {
        "id": "NhBSKHMYCsZN"
      },
      "execution_count": 22,
      "outputs": []
    },
    {
      "cell_type": "code",
      "source": [
        "print(cust.count())\n",
        "cust = cust.dropna()\n",
        "print(cust.count())\n"
      ],
      "metadata": {
        "colab": {
          "base_uri": "https://localhost:8080/"
        },
        "id": "Nb0Ay8FpWXt1",
        "outputId": "7887fffc-e900-4cc6-9b47-d473b333667c"
      },
      "execution_count": 23,
      "outputs": [
        {
          "output_type": "stream",
          "name": "stdout",
          "text": [
            "4879961\n",
            "4879961\n"
          ]
        }
      ]
    },
    {
      "cell_type": "code",
      "source": [
        "cust_df = cust.groupBy(\"customer_id\").count()"
      ],
      "metadata": {
        "id": "9ZmKzlz198xN"
      },
      "execution_count": 24,
      "outputs": []
    },
    {
      "cell_type": "code",
      "source": [
        "print(cust_df.count())"
      ],
      "metadata": {
        "colab": {
          "base_uri": "https://localhost:8080/"
        },
        "id": "VlBIeQd1-kDV",
        "outputId": "90644596-0fd3-47c3-ed71-82460a93a7ef"
      },
      "execution_count": 25,
      "outputs": [
        {
          "output_type": "stream",
          "name": "stdout",
          "text": [
            "2830190\n"
          ]
        }
      ]
    },
    {
      "cell_type": "code",
      "source": [
        ""
      ],
      "metadata": {
        "id": "gfqD0zCzGhgi"
      },
      "execution_count": null,
      "outputs": []
    },
    {
      "cell_type": "code",
      "source": [
        "cust_df.show(5)"
      ],
      "metadata": {
        "colab": {
          "base_uri": "https://localhost:8080/"
        },
        "id": "X5-yPp84GnJw",
        "outputId": "3ef3378a-c3cd-4916-e03e-2172d713662a"
      },
      "execution_count": 26,
      "outputs": [
        {
          "output_type": "stream",
          "name": "stdout",
          "text": [
            "+-----------+-----+\n",
            "|customer_id|count|\n",
            "+-----------+-----+\n",
            "|   23042837|    1|\n",
            "|   48875707|    2|\n",
            "|   48088660|    1|\n",
            "|   20781887|    6|\n",
            "|    1075003|    1|\n",
            "+-----------+-----+\n",
            "only showing top 5 rows\n",
            "\n"
          ]
        }
      ]
    },
    {
      "cell_type": "code",
      "source": [
        ""
      ],
      "metadata": {
        "id": "xF5DQY52hXVO"
      },
      "execution_count": null,
      "outputs": []
    },
    {
      "cell_type": "code",
      "source": [
        "df_index = cust_df.withColumnRenamed(\"count\", \"customer_count\")"
      ],
      "metadata": {
        "id": "GXpOW2BeR_HC"
      },
      "execution_count": 27,
      "outputs": []
    },
    {
      "cell_type": "code",
      "source": [
        "df_index.show()"
      ],
      "metadata": {
        "colab": {
          "base_uri": "https://localhost:8080/"
        },
        "id": "ZR5Ok9hUSUL_",
        "outputId": "7a11a129-d04c-40a7-f57d-81fccdd7b45e"
      },
      "execution_count": 28,
      "outputs": [
        {
          "output_type": "stream",
          "name": "stdout",
          "text": [
            "+-----------+--------------+\n",
            "|customer_id|customer_count|\n",
            "+-----------+--------------+\n",
            "|   23042837|             1|\n",
            "|   48875707|             2|\n",
            "|   48088660|             1|\n",
            "|   20781887|             6|\n",
            "|    1075003|             1|\n",
            "|   28377689|             3|\n",
            "|    8338749|             1|\n",
            "|   39271457|             6|\n",
            "|   38209321|             5|\n",
            "|   51397605|             1|\n",
            "|   45337932|             7|\n",
            "|   12948675|             3|\n",
            "|   38892468|             1|\n",
            "|   43582450|             1|\n",
            "|   13156755|             1|\n",
            "|   13433330|             1|\n",
            "|   17067926|             7|\n",
            "|   13780617|             1|\n",
            "|   50607818|             1|\n",
            "|   33437759|             2|\n",
            "+-----------+--------------+\n",
            "only showing top 20 rows\n",
            "\n"
          ]
        }
      ]
    },
    {
      "cell_type": "code",
      "source": [
        "df_index.printSchema()"
      ],
      "metadata": {
        "colab": {
          "base_uri": "https://localhost:8080/"
        },
        "id": "Fl3Z897HSeUD",
        "outputId": "8aa4ea5c-82a4-447c-b98f-995a22a06817"
      },
      "execution_count": 29,
      "outputs": [
        {
          "output_type": "stream",
          "name": "stdout",
          "text": [
            "root\n",
            " |-- customer_id: integer (nullable = true)\n",
            " |-- customer_count: long (nullable = false)\n",
            "\n"
          ]
        }
      ]
    },
    {
      "cell_type": "code",
      "source": [
        ""
      ],
      "metadata": {
        "id": "o7VTX5v6S8hS"
      },
      "execution_count": null,
      "outputs": []
    },
    {
      "cell_type": "code",
      "source": [
        "#df_index = df_index.filter(col(\"customer_id\")  == 10230)\n",
        "#df_index.sort(col(\"customer_id\")).show(truncate=False)"
      ],
      "metadata": {
        "id": "k0noGqNDaGd2"
      },
      "execution_count": null,
      "outputs": []
    },
    {
      "cell_type": "code",
      "source": [
        ""
      ],
      "metadata": {
        "id": "LP7i6ZUracCE"
      },
      "execution_count": null,
      "outputs": []
    },
    {
      "cell_type": "code",
      "source": [
        ""
      ],
      "metadata": {
        "id": "e3SZLJ02emGZ"
      },
      "execution_count": null,
      "outputs": []
    },
    {
      "cell_type": "code",
      "source": [
        ""
      ],
      "metadata": {
        "id": "eFQvZrxbIcKD"
      },
      "execution_count": null,
      "outputs": []
    },
    {
      "cell_type": "code",
      "source": [
        "df_index.write.jdbc(url=jdbc_url, table='customers', mode=mode, properties=config)"
      ],
      "metadata": {
        "id": "rmnkgjMeStnL"
      },
      "execution_count": 30,
      "outputs": []
    },
    {
      "cell_type": "code",
      "source": [
        "vines=w_df.select('review_id','star_rating','helpful_votes','total_votes','vine')"
      ],
      "metadata": {
        "id": "Ve3QPUZMIeJf"
      },
      "execution_count": 31,
      "outputs": []
    },
    {
      "cell_type": "code",
      "source": [
        "vines.show()"
      ],
      "metadata": {
        "colab": {
          "base_uri": "https://localhost:8080/"
        },
        "id": "cmubjd5mIvjN",
        "outputId": "73b16191-448a-4acb-ae6f-1ff8cd60c95c"
      },
      "execution_count": 32,
      "outputs": [
        {
          "output_type": "stream",
          "name": "stdout",
          "text": [
            "+--------------+-----------+-------------+-----------+----+\n",
            "|     review_id|star_rating|helpful_votes|total_votes|vine|\n",
            "+--------------+-----------+-------------+-----------+----+\n",
            "|R3DT59XH7HXR9K|          5|            0|          0|   N|\n",
            "|R1LFS11BNASSU8|          5|            0|          1|   N|\n",
            "|R296RT05AG0AF6|          5|            0|          0|   N|\n",
            "|R3V37XDZ7ZCI3L|          5|            0|          1|   N|\n",
            "|R14GU232NQFYX2|          5|            0|          0|   N|\n",
            "| RZQH4V7L2O1PL|          1|            1|          1|   N|\n",
            "|R1F8JMOSPJ3KO7|          5|            0|          0|   N|\n",
            "|R1ZISGY2BWW4Z5|          5|            0|          0|   N|\n",
            "|R17PW4I3AE5WZW|          5|            0|          0|   N|\n",
            "|R3D93G1KTP6A8P|          3|            0|          0|   N|\n",
            "|R18TQIW1NKPUNU|          5|            0|          0|   N|\n",
            "|R34KUNL21WU248|          4|            0|          0|   N|\n",
            "|R2YA1ZA53X12IN|          5|            0|          0|   N|\n",
            "|R2ZD1IGC9UU55X|          5|            1|          1|   N|\n",
            "| R9J2YMVZTUVZ7|          5|            0|          0|   N|\n",
            "|R2UUXJ0WQR0CNI|          4|            0|          0|   N|\n",
            "|R3S9QICITG73JZ|          5|            0|          0|   N|\n",
            "|R3LISNJHS64PDA|          4|            0|          0|   N|\n",
            "|R28RB82UG4RDD5|          5|           20|         20|   N|\n",
            "|R3H0PRVII5991X|          5|            0|          0|   N|\n",
            "+--------------+-----------+-------------+-----------+----+\n",
            "only showing top 20 rows\n",
            "\n"
          ]
        }
      ]
    },
    {
      "cell_type": "code",
      "source": [
        "vines.printSchema()"
      ],
      "metadata": {
        "colab": {
          "base_uri": "https://localhost:8080/"
        },
        "id": "mq6ewK4TI8dP",
        "outputId": "df17e964-4b89-4422-b69e-4b26fa84c6e9"
      },
      "execution_count": 33,
      "outputs": [
        {
          "output_type": "stream",
          "name": "stdout",
          "text": [
            "root\n",
            " |-- review_id: string (nullable = true)\n",
            " |-- star_rating: integer (nullable = true)\n",
            " |-- helpful_votes: integer (nullable = true)\n",
            " |-- total_votes: integer (nullable = true)\n",
            " |-- vine: string (nullable = true)\n",
            "\n"
          ]
        }
      ]
    },
    {
      "cell_type": "code",
      "source": [
        "vines = vines.withColumn(\"star_rating\",col(\"star_rating\").cast(\"integer\"))"
      ],
      "metadata": {
        "id": "w_wE9b_QIouO"
      },
      "execution_count": 34,
      "outputs": []
    },
    {
      "cell_type": "code",
      "source": [
        "vines.printSchema()"
      ],
      "metadata": {
        "colab": {
          "base_uri": "https://localhost:8080/"
        },
        "id": "qZ47JkfqJJyl",
        "outputId": "1137857f-ae4d-435c-9384-79aad6e67bd8"
      },
      "execution_count": 35,
      "outputs": [
        {
          "output_type": "stream",
          "name": "stdout",
          "text": [
            "root\n",
            " |-- review_id: string (nullable = true)\n",
            " |-- star_rating: integer (nullable = true)\n",
            " |-- helpful_votes: integer (nullable = true)\n",
            " |-- total_votes: integer (nullable = true)\n",
            " |-- vine: string (nullable = true)\n",
            "\n"
          ]
        }
      ]
    },
    {
      "cell_type": "code",
      "source": [
        "vines.write.jdbc(url=jdbc_url, table='vine_table', mode=mode, properties=config)"
      ],
      "metadata": {
        "id": "A9Ik8Gp2JePy"
      },
      "execution_count": 36,
      "outputs": []
    }
  ],
  "metadata": {
    "colab": {
      "name": "kitchenproducts.ipynb",
      "provenance": [],
      "collapsed_sections": [],
      "authorship_tag": "ABX9TyPkW6Gq19Kr2OyI04Mnid++",
      "include_colab_link": true
    },
    "kernelspec": {
      "display_name": "Python 3",
      "name": "python3"
    },
    "language_info": {
      "name": "python"
    }
  },
  "nbformat": 4,
  "nbformat_minor": 0
}